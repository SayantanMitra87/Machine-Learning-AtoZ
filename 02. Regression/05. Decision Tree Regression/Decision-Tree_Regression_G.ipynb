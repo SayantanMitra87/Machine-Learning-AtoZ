{
 "cells": [
  {
   "cell_type": "markdown",
   "metadata": {},
   "source": [
    "# Machine Learning A-Z Python"
   ]
  },
  {
   "cell_type": "markdown",
   "metadata": {},
   "source": [
    "## Regression"
   ]
  },
  {
   "cell_type": "markdown",
   "metadata": {},
   "source": [
    "## Part 5. Decision Tree Regression (Non-linear regression) \n",
    "\n",
    "### Criteria: For NON-linear regression | NON-continuous problems "
   ]
  },
  {
   "cell_type": "code",
   "execution_count": 19,
   "metadata": {},
   "outputs": [
    {
     "name": "stdout",
     "output_type": "stream",
     "text": [
      "            Position  Level   Salary\n",
      "0   Business Analyst      1    45000\n",
      "1  Junior Consultant      2    50000\n",
      "2  Senior Consultant      3    60000\n",
      "3            Manager      4    80000\n",
      "4    Country Manager      5   110000\n",
      "5     Region Manager      6   150000\n",
      "6            Partner      7   200000\n",
      "7     Senior Partner      8   300000\n",
      "8            C-level      9   500000\n",
      "9                CEO     10  1000000\n"
     ]
    }
   ],
   "source": [
    "# Data Preprocessing\n",
    "# Importing Libraries\n",
    "import numpy as np\n",
    "import matplotlib.pyplot as plt\n",
    "import pandas as pd\n",
    "\n",
    "# Importing the dataset\n",
    "dataset=pd.read_csv('Position_Salaries.csv')\n",
    "print(dataset.head(10))"
   ]
  },
  {
   "cell_type": "code",
   "execution_count": 20,
   "metadata": {},
   "outputs": [
    {
     "data": {
      "text/plain": [
       "(10, 1)"
      ]
     },
     "execution_count": 20,
     "metadata": {},
     "output_type": "execute_result"
    }
   ],
   "source": [
    "# Independent variable: Level, Dependent variable: Salary\n",
    "X=dataset.iloc[:,1:-1].values # all independent variables\n",
    "# Don't require position column, it is similar to level column\n",
    "X.shape"
   ]
  },
  {
   "cell_type": "markdown",
   "metadata": {},
   "source": [
    "In case of only 1 column as we saw in simple linear regression or polynomial regression,\n",
    "we have to use `[:-1]` for column selection in X because we want X to form a matrix.\n",
    "Where as y should be (10,) because we want it to be a vector and not matrix"
   ]
  },
  {
   "cell_type": "code",
   "execution_count": 21,
   "metadata": {},
   "outputs": [
    {
     "data": {
      "text/plain": [
       "(10,)"
      ]
     },
     "execution_count": 21,
     "metadata": {},
     "output_type": "execute_result"
    }
   ],
   "source": [
    "y=dataset.iloc[:,-1].values # dependent variables\n",
    "y.shape"
   ]
  },
  {
   "cell_type": "code",
   "execution_count": 22,
   "metadata": {},
   "outputs": [
    {
     "name": "stdout",
     "output_type": "stream",
     "text": [
      "[[1]\n",
      " [2]\n",
      " [3]\n",
      " [4]\n",
      " [5]]\n",
      "------------------------------------\n",
      "[ 45000  50000  60000  80000 110000]\n",
      "2 1\n"
     ]
    }
   ],
   "source": [
    "print(X[:5]) # confirm it do NOT have dependent variable \n",
    "print('------------------------------------')\n",
    "print(y[:5]) # confirm it only contain  dependent variable\n",
    "print(X.ndim, y.ndim)"
   ]
  },
  {
   "cell_type": "code",
   "execution_count": 7,
   "metadata": {},
   "outputs": [],
   "source": [
    "# No missing data and no categorical columns\n",
    "# Rare case of not splitting data as we have sparse observation\n",
    "# NO Feature scaling here"
   ]
  },
  {
   "cell_type": "code",
   "execution_count": 24,
   "metadata": {},
   "outputs": [
    {
     "data": {
      "text/plain": [
       "DecisionTreeRegressor(criterion='mse', max_depth=None, max_features=None,\n",
       "           max_leaf_nodes=None, min_impurity_decrease=0.0,\n",
       "           min_impurity_split=None, min_samples_leaf='deprecated',\n",
       "           min_samples_split=2, min_weight_fraction_leaf='deprecated',\n",
       "           presort=False, random_state=0, splitter='best')"
      ]
     },
     "execution_count": 24,
     "metadata": {},
     "output_type": "execute_result"
    }
   ],
   "source": [
    "# Fitting DecisionTree Regression to dataset: \n",
    "from sklearn.tree import DecisionTreeRegressor # DecisionTreeRegressor class \n",
    "# regressor is an object of DecisionTreeRegressor class\n",
    "regressor = DecisionTreeRegressor(random_state=0) \n",
    "\n",
    "regressor.fit(X, y) # fitting object to X and y as we didn't split the data"
   ]
  },
  {
   "cell_type": "code",
   "execution_count": 25,
   "metadata": {},
   "outputs": [
    {
     "data": {
      "text/plain": [
       "array([150000.])"
      ]
     },
     "execution_count": 25,
     "metadata": {},
     "output_type": "execute_result"
    }
   ],
   "source": [
    "# Predicting a new result\n",
    "y_pred = regressor.predict([[6.5]])\n",
    "y_pred"
   ]
  },
  {
   "cell_type": "markdown",
   "metadata": {},
   "source": [
    "**First prediction without any optimization (standardization/scaling), and the prediction is reasonable**"
   ]
  },
  {
   "cell_type": "code",
   "execution_count": 24,
   "metadata": {},
   "outputs": [
    {
     "data": {
      "image/png": "[encoded data removed]",
      "text/plain": [
       "<Figure size 432x288 with 1 Axes>"
      ]
     },
     "metadata": {},
     "output_type": "display_data"
    }
   ],
   "source": [
    "# Visualizing the DecisionTree  results \n",
    "plt.scatter(X, y, color='red')\n",
    "\n",
    "# To plot the DecisionTree  results \n",
    "plt.plot(X, regressor.predict(X), color='green')\n",
    "plt.title('Truth or Bluff (SVR)')\n",
    "plt.xlabel('Position')\n",
    "plt.ylabel('Salary')\n",
    "plt.show()"
   ]
  },
  {
   "cell_type": "markdown",
   "metadata": {},
   "source": [
    "### RED FLAG:\n",
    "\n",
    "**Decision Tree regression model do NOT look like this.** Here it seems to have a positive slope between intervals whereas according to decision tree, value between 2 intervals should be not change.\n",
    "\n",
    "DecisionTree (DT) regression model split the independent variable into several intervals. If there are 2 independent variables, it form a rectangle after being splitted by DT. But here, there is 1 independent variable (1-Dimension) and  thus the interval will be along the X axis eg- interval between 1&2, 2&3, 3&4 etc. And the values corrosponding to each interval should be constant. In video we saw it took dependent variable average at each terminal leaf, and assigning that value to any new point that fall inside that range. That way here we should not have a line with +ve slope between intervals (unlike continuous regression cases we see like linear, multiple linear, polynomial, SVR). Technically, DT regression should calculate the average value between each interval like 1 and 2, 3 and 4. And the line between 1 and 2, 3 and 4 etc should be more like a step and not one with a +ve slope.\n",
    "\n",
    "It is predicting the salary at each interval and then joining the predictions with a straight line (as they have no predicted points between 2 intervals) and hence it look continuous. It was ok with linear or similar regressions as the value they are predicting is continuous. But DT regression model is NOT continuous (it is rather constant predicted value between 2 intervals. eg- interval between 5.5 and 6.5 is earning $150k). And thus we can **remove the problem by plotting it in higher resolution.**"
   ]
  },
  {
   "cell_type": "code",
   "execution_count": 26,
   "metadata": {},
   "outputs": [
    {
     "name": "stdout",
     "output_type": "stream",
     "text": [
      "            Position  Level   Salary\n",
      "0   Business Analyst      1    45000\n",
      "1  Junior Consultant      2    50000\n",
      "2  Senior Consultant      3    60000\n",
      "3            Manager      4    80000\n",
      "4    Country Manager      5   110000\n",
      "5     Region Manager      6   150000\n",
      "6            Partner      7   200000\n",
      "7     Senior Partner      8   300000\n",
      "8            C-level      9   500000\n",
      "9                CEO     10  1000000\n",
      "[[1]\n",
      " [2]\n",
      " [3]\n",
      " [4]\n",
      " [5]]\n",
      "------------------------------------\n",
      "[ 45000  50000  60000  80000 110000]\n"
     ]
    },
    {
     "data": {
      "text/plain": [
       "array([150000.])"
      ]
     },
     "execution_count": 26,
     "metadata": {},
     "output_type": "execute_result"
    }
   ],
   "source": [
    "# Importing Libraries\n",
    "import numpy as np\n",
    "import matplotlib.pyplot as plt\n",
    "import pandas as pd\n",
    "\n",
    "# Importing the dataset\n",
    "dataset=pd.read_csv('Position_Salaries.csv')\n",
    "print(dataset.head(10))\n",
    "\n",
    "# Independent variable: Level, Dependent variable: Salary\n",
    "X=dataset.iloc[:,1:-1].values # all independent variables\n",
    "# Don't require position column, it is similar to level column\n",
    "y=dataset.iloc[:,-1].values # dependent variables\n",
    "X.shape, y.shape\n",
    "\n",
    "print(X[:5]) # confirm it do NOT have dependent variable \n",
    "print('------------------------------------')\n",
    "print(y[:5]) # confirm it only contain  dependent variable\n",
    "\n",
    "# Fitting DecisionTree Regression to dataset: \n",
    "from sklearn.tree import DecisionTreeRegressor # DecisionTreeRegressor class \n",
    "regressor = DecisionTreeRegressor(random_state=0) \n",
    "# regressor object of DecisionTreeRegressor class\n",
    "regressor.fit(X, y)\n",
    "\n",
    "# Predicting a new result\n",
    "y_pred = regressor.predict([[6.5]])\n",
    "y_pred"
   ]
  },
  {
   "cell_type": "markdown",
   "metadata": {},
   "source": [
    "### Following is the solution for DT regression model for continuous line"
   ]
  },
  {
   "cell_type": "code",
   "execution_count": 27,
   "metadata": {},
   "outputs": [
    {
     "name": "stdout",
     "output_type": "stream",
     "text": [
      "(90,)\n",
      "(90, 1)\n"
     ]
    },
    {
     "data": {
      "image/png": "[encoded data removed]",
      "text/plain": [
       "<Figure size 432x288 with 1 Axes>"
      ]
     },
     "metadata": {},
     "output_type": "display_data"
    }
   ],
   "source": [
    "# Visualizing the DT Regression results (for higher resolution and smoother curve)\n",
    "X_grid = np.arange(min(X),max(X),0.1) \n",
    "print (X_grid.shape)\n",
    "# But this will give a vector and for X we want matrix and therefore reshape:\n",
    "X_grid = X_grid.reshape(len(X_grid),1)\n",
    "print (X_grid.shape)\n",
    "\n",
    "# Visualizing the DT Regression results \n",
    "plt.scatter(X, y, color='red')\n",
    "# To plot the DT Regression results \n",
    "plt.plot(X_grid, regressor.predict(X_grid), color='green')\n",
    "plt.title('Truth or Bluff (Decision Tree Regression)')\n",
    "plt.xlabel('Position')\n",
    "plt.ylabel('Salary')\n",
    "plt.show()"
   ]
  },
  {
   "cell_type": "markdown",
   "metadata": {},
   "source": [
    "For a non-continuous model like DT regression model, we should have a more strictly vertical line (unlike last one which is close to vertical). And we can do that by reducing the step size (or increasing the resolution) further, which in turn improve the vertical line."
   ]
  },
  {
   "cell_type": "code",
   "execution_count": 28,
   "metadata": {},
   "outputs": [
    {
     "data": {
      "image/png": "[encoded data removed]",
      "text/plain": [
       "<Figure size 432x288 with 1 Axes>"
      ]
     },
     "metadata": {},
     "output_type": "display_data"
    }
   ],
   "source": [
    "# More strict Vertical lines:Visualizing the Regression results (for higher resolution and smoother curve)\n",
    "X_grid = np.arange(min(X),max(X),0.01) \n",
    "X_grid = X_grid.reshape(len(X_grid),1)\n",
    "\n",
    "# Visualizing the DT Regression results\n",
    "plt.scatter(X, y, color='red')\n",
    "# To plot the DT Regression results\n",
    "plt.plot(X_grid, regressor.predict(X_grid), color='green')\n",
    "plt.title('Truth or Bluff (Decision Tree Regression)')\n",
    "plt.xlabel('Position')\n",
    "plt.ylabel('Salary')\n",
    "plt.show()"
   ]
  },
  {
   "cell_type": "markdown",
   "metadata": {},
   "source": [
    "** MORE STRICT VERTICAL LINE** :  Characteristic DecisionTree Regression model.\n",
    "\n",
    "**DT Regression model consider average value of dependent variable in the interval.** Thus, we can see the constant value in each interval. Like anyone between level 5.5 and 6.5, will have a predicted salary of 150k dollars.\n",
    "\n",
    "DecisionTree Regression model is NOT an interesting/ powerful model in 1-D (like here). But it becomes powerful when more dimensions are added (more independent variables are added)."
   ]
  }
 ],
 "metadata": {
  "kernelspec": {
   "display_name": "Python 3",
   "language": "python",
   "name": "python3"
  },
  "language_info": {
   "codemirror_mode": {
    "name": "ipython",
    "version": 3
   },
   "file_extension": ".py",
   "mimetype": "text/x-python",
   "name": "python",
   "nbconvert_exporter": "python",
   "pygments_lexer": "ipython3",
   "version": "3.6.5"
  },
  "varInspector": {
   "cols": {
    "lenName": 16,
    "lenType": 16,
    "lenVar": 40
   },
   "kernels_config": {
    "python": {
     "delete_cmd_postfix": "",
     "delete_cmd_prefix": "del ",
     "library": "var_list.py",
     "varRefreshCmd": "print(var_dic_list())"
    },
    "r": {
     "delete_cmd_postfix": ") ",
     "delete_cmd_prefix": "rm(",
     "library": "var_list.r",
     "varRefreshCmd": "cat(var_dic_list()) "
    }
   },
   "types_to_exclude": [
    "module",
    "function",
    "builtin_function_or_method",
    "instance",
    "_Feature"
   ],
   "window_display": false
  }
 },
 "nbformat": 4,
 "nbformat_minor": 2
}
