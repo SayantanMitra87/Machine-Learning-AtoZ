{
 "cells": [
  {
   "cell_type": "markdown",
   "metadata": {},
   "source": [
    "# Machine Learning A-Z Python"
   ]
  },
  {
   "cell_type": "markdown",
   "metadata": {},
   "source": [
    "## Regression"
   ]
  },
  {
   "cell_type": "markdown",
   "metadata": {},
   "source": [
    "## Part 3. Polynomial Regression (Continuous regression)"
   ]
  },
  {
   "cell_type": "markdown",
   "metadata": {},
   "source": [
    "**Problem:** A new employee is going to be hired. He claims to be paid $160k in his previous company.\n",
    "The hiring company HR wants to check the salary of the candidate by calling his previous company. However, He only manages to get the range of salaries of the candidate's previous company. Once plotted in excel it looked\n",
    "like polynomial regression.\n",
    "\n",
    "This guy is working as regional manager there (for 2 years so level ~6.5). HR thus thinks his \n",
    "salary is around $150k as a regional manager and he is bluffing about his salary. Lets do a \n",
    "polynomial regression and see what is TRUE?"
   ]
  },
  {
   "cell_type": "code",
   "execution_count": 47,
   "metadata": {},
   "outputs": [
    {
     "name": "stdout",
     "output_type": "stream",
     "text": [
      "            Position  Level   Salary\n",
      "0   Business Analyst      1    45000\n",
      "1  Junior Consultant      2    50000\n",
      "2  Senior Consultant      3    60000\n",
      "3            Manager      4    80000\n",
      "4    Country Manager      5   110000\n",
      "5     Region Manager      6   150000\n",
      "6            Partner      7   200000\n",
      "7     Senior Partner      8   300000\n",
      "8            C-level      9   500000\n",
      "9                CEO     10  1000000\n"
     ]
    }
   ],
   "source": [
    "# Data Preprocessing\n",
    "\n",
    "# Importing Libraries\n",
    "import numpy as np\n",
    "import matplotlib.pyplot as plt\n",
    "import pandas as pd\n",
    "\n",
    "# Importing the dataset\n",
    "dataset=pd.read_csv('Position_Salaries.csv')\n",
    "print(dataset.head(10))"
   ]
  },
  {
   "cell_type": "code",
   "execution_count": 48,
   "metadata": {},
   "outputs": [
    {
     "data": {
      "text/plain": [
       "(10, 1)"
      ]
     },
     "execution_count": 48,
     "metadata": {},
     "output_type": "execute_result"
    }
   ],
   "source": [
    "# Independent variable: Level\n",
    "X=dataset.iloc[:,1:-1].values # Don't require position column, similar to level column\n",
    "X.shape"
   ]
  },
  {
   "cell_type": "markdown",
   "metadata": {},
   "source": [
    "In case of only 1 column as we saw in simple linear regression, \n",
    "we have to use [:-1] for column selection in X because we want X to form a matrix.\n",
    "Where as y should be (10,) because we want it to be a vector and not matrix."
   ]
  },
  {
   "cell_type": "code",
   "execution_count": 49,
   "metadata": {},
   "outputs": [
    {
     "data": {
      "text/plain": [
       "(10,)"
      ]
     },
     "execution_count": 49,
     "metadata": {},
     "output_type": "execute_result"
    }
   ],
   "source": [
    "# Dependent variable: Salary\n",
    "y=dataset.iloc[:,-1].values \n",
    "y.shape"
   ]
  },
  {
   "cell_type": "code",
   "execution_count": 50,
   "metadata": {},
   "outputs": [
    {
     "name": "stdout",
     "output_type": "stream",
     "text": [
      "[[1]\n",
      " [2]\n",
      " [3]\n",
      " [4]\n",
      " [5]]\n",
      "------------------------------------\n",
      "[ 45000  50000  60000  80000 110000]\n",
      "2 1\n"
     ]
    }
   ],
   "source": [
    "print(X[:5]) # confirm it do NOT have dependent variable \n",
    "print('------------------------------------')\n",
    "print(y[:5]) # confirm it only contain  dependent variable\n",
    "print(X.ndim, y.ndim)"
   ]
  },
  {
   "cell_type": "code",
   "execution_count": 51,
   "metadata": {},
   "outputs": [],
   "source": [
    "# No missing data and no categorical columns"
   ]
  },
  {
   "cell_type": "markdown",
   "metadata": {},
   "source": [
    "**Very rare case of NOT splitting the data, because we have very limited observation.\n",
    "We need to use as much of information to predict the salary**.\n",
    "\n",
    "In case of a real world dataset, we need to split data into training and test set (similar to what we did in previous notebook)"
   ]
  },
  {
   "cell_type": "code",
   "execution_count": 52,
   "metadata": {},
   "outputs": [],
   "source": [
    "# NO Feature scaling required here"
   ]
  },
  {
   "cell_type": "markdown",
   "metadata": {},
   "source": [
    "This is because we will be using the same library that we use for linear regression. This library does the feature scaling itself to make more accurate predictions. And therefore, no need to perform feature scaling separately."
   ]
  },
  {
   "cell_type": "code",
   "execution_count": 53,
   "metadata": {},
   "outputs": [
    {
     "data": {
      "text/plain": [
       "LinearRegression(copy_X=True, fit_intercept=True, n_jobs=None,\n",
       "         normalize=False)"
      ]
     },
     "execution_count": 53,
     "metadata": {},
     "output_type": "execute_result"
    }
   ],
   "source": [
    "# Fitting linear regression to dataset: to compare both linear & polynomial regression results\n",
    "from sklearn.linear_model import LinearRegression \n",
    "# LinearRegression class from linear_model library\n",
    "\n",
    "lin_regressor = LinearRegression() \n",
    "# Instantiate LinearRegression by creating an object\n",
    "\n",
    "lin_regressor.fit(X, y) # fitting to X and y as we did not split data here"
   ]
  },
  {
   "cell_type": "code",
   "execution_count": 54,
   "metadata": {},
   "outputs": [
    {
     "data": {
      "image/png": "[encoded data removed]",
      "text/plain": [
       "<Figure size 432x288 with 1 Axes>"
      ]
     },
     "metadata": {},
     "output_type": "display_data"
    }
   ],
   "source": [
    "# Visualizing the Linear Regression results_compare with Polynomial\n",
    "plt.scatter(X, y, color='red')\n",
    "\n",
    "# To plot the linear regression line\n",
    "plt.plot(X, lin_regressor.predict(X), color='green')\n",
    "plt.title('Truth or Bluff (Linear Regression)')\n",
    "plt.xlabel('Position')\n",
    "plt.ylabel('Salary')\n",
    "plt.show()"
   ]
  },
  {
   "cell_type": "markdown",
   "metadata": {},
   "source": [
    "**Observed points are red points, prediction is in green line.**\n",
    "\n",
    "Prediction is forming a straight line as this is a linear regression model.\n",
    "\n",
    "**Result:** \n",
    "\n",
    "**Linear Regression prediction is NOT good**, we see observed points are far from predicted points (predicted \n",
    "points formed the green line) in the linear regression model. eg- CEO observed salary is 1Million dollar. \n",
    "But predicted is 650k dollar. So if we use linear regression model to check CEO's salary, then it wont be correct. \n",
    "Or the person in question would earn $300k according to this model.\n",
    "So we have to improve the linear model such that the predicted line matches\n",
    "better with observed points"
   ]
  },
  {
   "cell_type": "code",
   "execution_count": 55,
   "metadata": {},
   "outputs": [],
   "source": [
    "# Fitting polynomial regression to dataset: to compare both linear & polynomial regression results\n",
    "from sklearn.preprocessing import PolynomialFeatures # class is PolynomialFeatures which is in preprocessing library\n",
    "\n",
    "poly_regressor = PolynomialFeatures(degree=2) "
   ]
  },
  {
   "cell_type": "markdown",
   "metadata": {},
   "source": [
    "**PolynomialFeatures class provides the tool to incorporate some polynomial term in the linear regression equation**\n",
    "\n",
    "Poly_regressor object will be a transformer tool that will transform our matrix of feature `X` into new matrix of features `X_poly` which will contain independent variable present in `X` and it's polynomial term. Then we can fit linear regression model into `X_poly` again. "
   ]
  },
  {
   "cell_type": "markdown",
   "metadata": {},
   "source": [
    "Start with no. of degrees=2 and then increase the number to make the polynomial regression line a \n",
    "better fit to the observed line.\n",
    "\n",
    "No of degrees will add that many columns to X matrix. For degrees = 2, X goes from 1 column \n",
    "to 1+2=3 column of X_poly. Out of the 2, one column will be for bo, another column will be \n",
    "polynomial i.e. X1^2"
   ]
  },
  {
   "cell_type": "markdown",
   "metadata": {},
   "source": [
    "Here poly_regressor will transform matrix of feature X1 into a new matrix of features \n",
    "named X_poly. \n",
    "\n",
    "X_poly will contain not only X1, but also  X1^2, X1^3, X^n (as much \n",
    "^ as we want by changing number of degrees)"
   ]
  },
  {
   "cell_type": "code",
   "execution_count": 56,
   "metadata": {},
   "outputs": [],
   "source": [
    "# fit the object poly_regressor to X and then transform X into X_poly\n",
    "X_poly = poly_regressor.fit_transform(X)"
   ]
  },
  {
   "cell_type": "code",
   "execution_count": 57,
   "metadata": {},
   "outputs": [
    {
     "name": "stdout",
     "output_type": "stream",
     "text": [
      "(10, 1)\n",
      "------------\n",
      "(10, 3)\n"
     ]
    }
   ],
   "source": [
    "# Now compare X and X_poly\n",
    "print(X.shape)\n",
    "print('------------') \n",
    "print(X_poly.shape)"
   ]
  },
  {
   "cell_type": "code",
   "execution_count": 58,
   "metadata": {},
   "outputs": [
    {
     "data": {
      "text/plain": [
       "array([[ 1],\n",
       "       [ 2],\n",
       "       [ 3],\n",
       "       [ 4],\n",
       "       [ 5],\n",
       "       [ 6],\n",
       "       [ 7],\n",
       "       [ 8],\n",
       "       [ 9],\n",
       "       [10]])"
      ]
     },
     "execution_count": 58,
     "metadata": {},
     "output_type": "execute_result"
    }
   ],
   "source": [
    "X"
   ]
  },
  {
   "cell_type": "code",
   "execution_count": 59,
   "metadata": {},
   "outputs": [
    {
     "data": {
      "text/plain": [
       "array([[  1.,   1.,   1.],\n",
       "       [  1.,   2.,   4.],\n",
       "       [  1.,   3.,   9.],\n",
       "       [  1.,   4.,  16.],\n",
       "       [  1.,   5.,  25.],\n",
       "       [  1.,   6.,  36.],\n",
       "       [  1.,   7.,  49.],\n",
       "       [  1.,   8.,  64.],\n",
       "       [  1.,   9.,  81.],\n",
       "       [  1.,  10., 100.]])"
      ]
     },
     "execution_count": 59,
     "metadata": {},
     "output_type": "execute_result"
    }
   ],
   "source": [
    "X_poly"
   ]
  },
  {
   "cell_type": "markdown",
   "metadata": {},
   "source": [
    "**Now compare X and X_poly**\n",
    "\n",
    "The independent variable or X1 (or original X column) is the middle column (column_index=1) in X_poly. \n",
    "Then 3rd column (column_index=2) in X_poly is ^2 of middle column of X_poly (or original X column).\n",
    "Thus X_poly 3rd column is the polynomial term.\n",
    "X_poly first column (column_index=0) has a constant value of 1. \n",
    "\n",
    "**So here poly_regressor object has \n",
    "created `bo` constant automatically, which we had to seperately add in the case of multiple \n",
    "linear regression.**"
   ]
  },
  {
   "cell_type": "code",
   "execution_count": 60,
   "metadata": {},
   "outputs": [
    {
     "data": {
      "text/plain": [
       "LinearRegression(copy_X=True, fit_intercept=True, n_jobs=None,\n",
       "         normalize=False)"
      ]
     },
     "execution_count": 60,
     "metadata": {},
     "output_type": "execute_result"
    }
   ],
   "source": [
    "# poly_regressor fit into a linear egression model by incorporting X_poly which contains polynomial feature\n",
    "lin_regressor2 = LinearRegression() \n",
    "lin_regressor2.fit(X_poly, y) \n",
    "\n",
    "# Now polynomial model is created and ready to say Truth or bluff about the salary claimed?"
   ]
  },
  {
   "cell_type": "code",
   "execution_count": 61,
   "metadata": {},
   "outputs": [
    {
     "data": {
      "image/png": "[encoded data removed]",
      "text/plain": [
       "<Figure size 432x288 with 1 Axes>"
      ]
     },
     "metadata": {},
     "output_type": "display_data"
    }
   ],
   "source": [
    "# Visualizing the Polynomial Regression results_compare with Linear regression\n",
    "plt.scatter(X, y, color='red')\n",
    "\n",
    "# To plot the Polynomial regression line\n",
    "plt.plot(X, lin_regressor2.predict(poly_regressor.fit_transform(X)), \n",
    "         color='green')\n",
    "plt.title('Truth or Bluff (Polynomial Regression)')\n",
    "plt.xlabel('Position')\n",
    "plt.ylabel('Salary')\n",
    "plt.show()"
   ]
  },
  {
   "cell_type": "markdown",
   "metadata": {},
   "source": [
    "`poly_regressor.fit_transform(X)` will convert X matrix of features into `X_poly`.\n",
    "\n",
    "`lin_regressor2.predict` will predict the dependent variable based on `X_poly`."
   ]
  },
  {
   "cell_type": "markdown",
   "metadata": {},
   "source": [
    "we can use `plt.plot(X, lin_regressor2.predict(X_poly), color='green')`\n",
    "but to make this visualization code for polynomial self-sufficient to be used later we \n",
    "replaced `X_poly` with original code that can work for any X matrix."
   ]
  },
  {
   "cell_type": "markdown",
   "metadata": {},
   "source": [
    "**RESULT:**\n",
    "\n",
    "**Green predicted line is curved beacuse of polynomial regression model.**\n",
    "\n",
    "And this predicted\n",
    "line is fitting much better to the observed points (unlike linear regression model). \n",
    "According to the polynomial regrssion, CEO should have a salary close to dollar 900 k, and the person\n",
    "in question (6.5 position) to be hired should have a salary close to dollar 200k (way better than linear model \n",
    "prediction of dollar 300k). So looks like this person is honest."
   ]
  },
  {
   "cell_type": "markdown",
   "metadata": {},
   "source": [
    "## **MODEL IMPROVEMENT:** \n",
    "    \n",
    "Although polynomial regression model predicted line fits better than linear regression.\n",
    "but still its NOT great. \n",
    "\n",
    "We know model is correct as the regression (predicted) line is following the observed points. But we can fine-tune the model for a better fit by the following:\n",
    "\n",
    "** 2 ways model can be improved **\n",
    "\n",
    "1> MODEL OPTIMIZATION: Increasing no. of degrees\n",
    "\n",
    "2> MODEL OPTIMIZATION: Reducing step size of the plot"
   ]
  },
  {
   "cell_type": "markdown",
   "metadata": {},
   "source": [
    "### Optimization 1. Increasing no. of degrees"
   ]
  },
  {
   "cell_type": "code",
   "execution_count": 62,
   "metadata": {},
   "outputs": [
    {
     "name": "stdout",
     "output_type": "stream",
     "text": [
      "(10, 1)\n",
      "------------\n",
      "(10, 4)\n",
      "------------\n",
      "[[ 1]\n",
      " [ 2]\n",
      " [ 3]\n",
      " [ 4]\n",
      " [ 5]\n",
      " [ 6]\n",
      " [ 7]\n",
      " [ 8]\n",
      " [ 9]\n",
      " [10]]\n",
      "---------------------------\n",
      "[[   1.    1.    1.    1.]\n",
      " [   1.    2.    4.    8.]\n",
      " [   1.    3.    9.   27.]\n",
      " [   1.    4.   16.   64.]\n",
      " [   1.    5.   25.  125.]\n",
      " [   1.    6.   36.  216.]\n",
      " [   1.    7.   49.  343.]\n",
      " [   1.    8.   64.  512.]\n",
      " [   1.    9.   81.  729.]\n",
      " [   1.   10.  100. 1000.]]\n"
     ]
    }
   ],
   "source": [
    "# Increase number of degrees to 3\n",
    "poly_regressor = PolynomialFeatures(degree=3)\n",
    "\n",
    "# fit the object poly_regressor to X and then transform X into X_poly\n",
    "X_poly = poly_regressor.fit_transform(X)\n",
    "\n",
    "# Now compare X and X_poly\n",
    "print(X.shape)\n",
    "print('------------') \n",
    "print(X_poly.shape)\n",
    "print('------------') \n",
    "print(X)\n",
    "print('---------------------------') \n",
    "print(X_poly)"
   ]
  },
  {
   "cell_type": "markdown",
   "metadata": {},
   "source": [
    "X_poly first column is bo (constant=1), 2nd column is original X value, 3rd column is x^2, 4th column is x^3"
   ]
  },
  {
   "cell_type": "code",
   "execution_count": 63,
   "metadata": {},
   "outputs": [
    {
     "data": {
      "image/png": "[encoded data removed]",
      "text/plain": [
       "<Figure size 432x288 with 1 Axes>"
      ]
     },
     "metadata": {},
     "output_type": "display_data"
    }
   ],
   "source": [
    "# Include this poly_regressor fit into a linear regression model\n",
    "lin_regressor2 = LinearRegression() \n",
    "lin_regressor2.fit(X_poly, y) \n",
    "\n",
    "# Visualizing the Polynomial Regression results (compare with Linear regression)\n",
    "plt.scatter(X, y, color='red')\n",
    "\n",
    "# To plot the Polynomial regression line\n",
    "plt.plot(X, lin_regressor2.predict(poly_regressor.fit_transform(X)), \n",
    "         color='green')\n",
    "plt.title('Truth or Bluff (Polynomial Regression)')\n",
    "plt.xlabel('Position')\n",
    "plt.ylabel('Salary')\n",
    "plt.show()"
   ]
  },
  {
   "cell_type": "markdown",
   "metadata": {},
   "source": [
    "** Result: **\n",
    "It fits better than NOT only linear regression, but polynomial regression with degrees 3 fit better to observed points than polynomial regression with degrees 2."
   ]
  },
  {
   "cell_type": "code",
   "execution_count": 64,
   "metadata": {},
   "outputs": [
    {
     "name": "stdout",
     "output_type": "stream",
     "text": [
      "(10, 1)\n",
      "------------\n",
      "(10, 5)\n",
      "------------\n",
      "[[ 1]\n",
      " [ 2]\n",
      " [ 3]\n",
      " [ 4]\n",
      " [ 5]\n",
      " [ 6]\n",
      " [ 7]\n",
      " [ 8]\n",
      " [ 9]\n",
      " [10]]\n",
      "---------------------------\n",
      "[[1.000e+00 1.000e+00 1.000e+00 1.000e+00 1.000e+00]\n",
      " [1.000e+00 2.000e+00 4.000e+00 8.000e+00 1.600e+01]\n",
      " [1.000e+00 3.000e+00 9.000e+00 2.700e+01 8.100e+01]\n",
      " [1.000e+00 4.000e+00 1.600e+01 6.400e+01 2.560e+02]\n",
      " [1.000e+00 5.000e+00 2.500e+01 1.250e+02 6.250e+02]\n",
      " [1.000e+00 6.000e+00 3.600e+01 2.160e+02 1.296e+03]\n",
      " [1.000e+00 7.000e+00 4.900e+01 3.430e+02 2.401e+03]\n",
      " [1.000e+00 8.000e+00 6.400e+01 5.120e+02 4.096e+03]\n",
      " [1.000e+00 9.000e+00 8.100e+01 7.290e+02 6.561e+03]\n",
      " [1.000e+00 1.000e+01 1.000e+02 1.000e+03 1.000e+04]]\n",
      "---------------------------\n",
      "X_poly first column is bo (constant=1), 2nd column is original X value, 3rd column X^2, 4th column X^3, 5th column X^4\n"
     ]
    },
    {
     "data": {
      "image/png": "[encoded data removed]",
      "text/plain": [
       "<Figure size 432x288 with 1 Axes>"
      ]
     },
     "metadata": {},
     "output_type": "display_data"
    }
   ],
   "source": [
    "# Increase number of degrees to 4\n",
    "poly_regressor = PolynomialFeatures(degree=4)\n",
    "\n",
    "# fit the object poly_regressor to X and then transform X into X_poly\n",
    "X_poly = poly_regressor.fit_transform(X)\n",
    "\n",
    "# Now compare X and X_poly\n",
    "print(X.shape)\n",
    "print('------------') \n",
    "print(X_poly.shape)\n",
    "print('------------') \n",
    "print(X)\n",
    "print('---------------------------') \n",
    "print(X_poly)\n",
    "print('---------------------------') \n",
    "print( 'X_poly first column is bo (constant=1), 2nd column is original X value, \\\n",
    "3rd column X^2, 4th column X^3, 5th column X^4')\n",
    "\n",
    "# Include this poly_regressor fit into a linear regression model\n",
    "lin_regressor2 = LinearRegression() \n",
    "lin_regressor2.fit(X_poly, y) \n",
    "\n",
    "# Visualizing the Polynomial Regression results (compare with Linear regression)\n",
    "plt.scatter(X, y, color='red')\n",
    "\n",
    "# To plot the Polynomial regression line\n",
    "plt.plot(X, lin_regressor2.predict(poly_regressor.fit_transform(X)), \n",
    "         color='green')\n",
    "plt.title('Truth or Bluff (Polynomial Regression)')\n",
    "plt.xlabel('Position')\n",
    "plt.ylabel('Salary')\n",
    "plt.show()"
   ]
  },
  {
   "cell_type": "markdown",
   "metadata": {},
   "source": [
    "** Result: **\n",
    "Polynomial regression model with degrees 4 fit predicted line to observed points better than polynomial regression model with degrees 3"
   ]
  },
  {
   "cell_type": "markdown",
   "metadata": {},
   "source": [
    "### Optimization 2. Changing number of steps"
   ]
  },
  {
   "cell_type": "markdown",
   "metadata": {},
   "source": [
    "Even after putting degrees as 4, we see the prediction line is straight between observed points.\n",
    "So we lack a continuous/smoother predicted line. We can have a continuous predicted curve by incrementing \n",
    "by 0.1 step (making it higher resolution) instead of 1 step.\n",
    "Reshape the X_grid (np.arange and reshape) for this and you will see instead of 10 observation\n",
    "of X, it will be 100 because now we are having 0.1 step (Because 10 observation *10=100 observation)\n",
    "\n",
    "You will then see a real continuous prediction line fitting very well with observed points."
   ]
  },
  {
   "cell_type": "code",
   "execution_count": 65,
   "metadata": {},
   "outputs": [
    {
     "name": "stdout",
     "output_type": "stream",
     "text": [
      "1\n",
      "2\n"
     ]
    },
    {
     "data": {
      "image/png": "[encoded data removed]",
      "text/plain": [
       "<Figure size 432x288 with 1 Axes>"
      ]
     },
     "metadata": {},
     "output_type": "display_data"
    }
   ],
   "source": [
    "# Optimization 2 to make predicted line more continuous\n",
    "\n",
    "# Visualizing the Polynomial Regression results\n",
    "X_grid = np.arange(min(X),max(X),0.1) \n",
    "print(X_grid.ndim)\n",
    "\n",
    "# But this will give a vector and for X we want matrix and therefore reshape\n",
    "X_grid = X_grid.reshape(len(X_grid),1)\n",
    "print(X_grid.ndim)\n",
    "\n",
    "plt.scatter(X, y, color='red')\n",
    "# To plot the Polynomial regression line\n",
    "plt.plot(X_grid, lin_regressor2.predict\n",
    "         (poly_regressor.fit_transform(X_grid)), color='green')\n",
    "\n",
    "plt.title('Truth or Bluff (Polynomial Regression)')\n",
    "plt.xlabel('Position')\n",
    "plt.ylabel('Salary')\n",
    "plt.show()"
   ]
  },
  {
   "cell_type": "code",
   "execution_count": 66,
   "metadata": {},
   "outputs": [
    {
     "name": "stdout",
     "output_type": "stream",
     "text": [
      "[-114454.54545455  -33575.75757576   47303.03030303  128181.81818182\n",
      "  209060.60606061  289939.39393939  370818.18181818  451696.96969697\n",
      "  532575.75757576  613454.54545455]\n"
     ]
    },
    {
     "data": {
      "text/plain": [
       "array([330378.78787879])"
      ]
     },
     "execution_count": 66,
     "metadata": {},
     "output_type": "execute_result"
    }
   ],
   "source": [
    "# Predict the salary of the person in question by Linear Regression\n",
    "print(lin_regressor.predict(X))\n",
    "# Here X is similar to X_test in previous notebooks(but we didn't split data here)\n",
    "# This will predict for each level of X\n",
    "\n",
    "# If we are interested only in the salary of person in question\n",
    "lin_regressor.predict((np.array([6.5]).reshape(1,1))) # experience level 6.5"
   ]
  },
  {
   "cell_type": "markdown",
   "metadata": {},
   "source": [
    "**Result:**\n",
    "According to linear regression model, this person salary should be 330k. But we know the linear regression model is not best for our dataset."
   ]
  },
  {
   "cell_type": "code",
   "execution_count": 67,
   "metadata": {},
   "outputs": [
    {
     "name": "stdout",
     "output_type": "stream",
     "text": [
      "[ 53356.64335683  31759.90675992  58642.19114218  94632.86713289\n",
      " 121724.94172501 143275.05827513 184003.49650353 289994.17249412\n",
      " 528694.6386945  988916.0839159 ]\n"
     ]
    },
    {
     "data": {
      "text/plain": [
       "array([158862.45265158])"
      ]
     },
     "execution_count": 67,
     "metadata": {},
     "output_type": "execute_result"
    }
   ],
   "source": [
    "# Predict the salary of the person in question by Polynomial Regression\n",
    "print(lin_regressor2.predict(poly_regressor.fit_transform(X)))\n",
    "# Will predict for each level of X\n",
    "\n",
    "# If we are interested only in the salary of person in question\n",
    "lin_regressor2.predict(poly_regressor.fit_transform(np.array([[6.5]]))) # experience level 6.5"
   ]
  },
  {
   "cell_type": "markdown",
   "metadata": {},
   "source": [
    "**Result:**\n",
    "According to polynomial regression model, this person salary should be 160k. This is very close to what the person claimed. Therefore the polynomial model predicted very close and thus the person is **Honest**."
   ]
  },
  {
   "cell_type": "markdown",
   "metadata": {},
   "source": [
    "**Disclaimer**\n",
    "\n",
    "Visualization is NOT possible when the dataset has dimension more than 2. Thus we can do the visualization in linear regression model, but NOT in multiple linear regression.\n",
    "\n",
    "In polynomial regression we could visualize because we were fitting X_poly with linear regression model"
   ]
  }
 ],
 "metadata": {
  "kernelspec": {
   "display_name": "Python 3",
   "language": "python",
   "name": "python3"
  },
  "language_info": {
   "codemirror_mode": {
    "name": "ipython",
    "version": 3
   },
   "file_extension": ".py",
   "mimetype": "text/x-python",
   "name": "python",
   "nbconvert_exporter": "python",
   "pygments_lexer": "ipython3",
   "version": "3.6.5"
  },
  "varInspector": {
   "cols": {
    "lenName": 16,
    "lenType": 16,
    "lenVar": 40
   },
   "kernels_config": {
    "python": {
     "delete_cmd_postfix": "",
     "delete_cmd_prefix": "del ",
     "library": "var_list.py",
     "varRefreshCmd": "print(var_dic_list())"
    },
    "r": {
     "delete_cmd_postfix": ") ",
     "delete_cmd_prefix": "rm(",
     "library": "var_list.r",
     "varRefreshCmd": "cat(var_dic_list()) "
    }
   },
   "types_to_exclude": [
    "module",
    "function",
    "builtin_function_or_method",
    "instance",
    "_Feature"
   ],
   "window_display": false
  }
 },
 "nbformat": 4,
 "nbformat_minor": 2
}
