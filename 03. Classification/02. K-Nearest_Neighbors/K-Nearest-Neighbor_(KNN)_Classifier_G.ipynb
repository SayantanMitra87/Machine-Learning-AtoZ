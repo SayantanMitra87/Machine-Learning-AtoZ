{
 "cells": [
  {
   "cell_type": "markdown",
   "metadata": {},
   "source": [
    "# Machine Learning A-Z Python"
   ]
  },
  {
   "cell_type": "markdown",
   "metadata": {},
   "source": [
    "## Classification"
   ]
  },
  {
   "cell_type": "markdown",
   "metadata": {},
   "source": [
    "## K-Nearest Neighbor (NON-linear classifier)"
   ]
  },
  {
   "cell_type": "markdown",
   "metadata": {},
   "source": [
    "We generally use regression (simple, multiple, polynomial etc) to predict a continuous number.\n",
    "\n",
    "Classification is used to predict a category<br/>\n",
    "* **Linear classifier:** Logistic Regression, SVM\n",
    "\n",
    "* **Non-Linear classifier:** K-NN, Kernel SVM, Random Forest\n",
    "\n",
    "**Business Problem:** Client has started a brand new luxary SUV. Job is to figure out who in the social network (based on available data) is willing to buy this brand new SUV."
   ]
  },
  {
   "cell_type": "code",
   "execution_count": 1,
   "metadata": {},
   "outputs": [
    {
     "name": "stdout",
     "output_type": "stream",
     "text": [
      "    User ID  Gender  Age  EstimatedSalary  Purchased\n",
      "0  15624510    Male   19            19000          0\n",
      "1  15810944    Male   35            20000          0\n",
      "2  15668575  Female   26            43000          0\n",
      "3  15603246  Female   27            57000          0\n",
      "4  15804002    Male   19            76000          0\n"
     ]
    }
   ],
   "source": [
    "# Data Preprocessing\n",
    "\n",
    "# Importing Libraries\n",
    "import numpy as np\n",
    "import matplotlib.pyplot as plt\n",
    "import pandas as pd\n",
    "\n",
    "## Importing the dataset\n",
    "dataset= pd.read_csv('Social_Network_Ads.csv')\n",
    "print(dataset.head())"
   ]
  },
  {
   "cell_type": "code",
   "execution_count": 2,
   "metadata": {},
   "outputs": [
    {
     "data": {
      "text/plain": [
       "(2, (400, 2))"
      ]
     },
     "execution_count": 2,
     "metadata": {},
     "output_type": "execute_result"
    }
   ],
   "source": [
    "# Independent variable: Age, Estimated Salary,\n",
    "# Dependent variable: Salary\n",
    "X=dataset.iloc[:,2:4].values # independent variables\n",
    "X.ndim, X.shape  # needs to be 2-D matrix"
   ]
  },
  {
   "cell_type": "code",
   "execution_count": 3,
   "metadata": {},
   "outputs": [
    {
     "data": {
      "text/plain": [
       "(1, (400,))"
      ]
     },
     "execution_count": 3,
     "metadata": {},
     "output_type": "execute_result"
    }
   ],
   "source": [
    "y=dataset.iloc[:,-1].values # dependent variable\n",
    "y.ndim, y.shape # needs to be 1-D vector"
   ]
  },
  {
   "cell_type": "code",
   "execution_count": 4,
   "metadata": {},
   "outputs": [
    {
     "name": "stdout",
     "output_type": "stream",
     "text": [
      "[[   19 19000]\n",
      " [   35 20000]\n",
      " [   26 43000]\n",
      " [   27 57000]\n",
      " [   19 76000]]\n",
      "------------------------------------\n",
      "[0 0 0 0 0]\n"
     ]
    }
   ],
   "source": [
    "print(X[:5]) # confirm it do NOT have dependent variable \n",
    "print('------------------------------------')\n",
    "print(y[:5]) # confirm it only contain  dependent variable"
   ]
  },
  {
   "cell_type": "code",
   "execution_count": 5,
   "metadata": {},
   "outputs": [
    {
     "name": "stdout",
     "output_type": "stream",
     "text": [
      "(300, 2)\n",
      "(300,)\n"
     ]
    }
   ],
   "source": [
    "## Splitting the dataset into the Training and Test set\n",
    "from sklearn.model_selection import train_test_split\n",
    "X_train, X_test, y_train, y_test=train_test_split(X, y, \n",
    "                                                  test_size=0.25, \n",
    "                                                  random_state=0)\n",
    "print(X_train.shape)\n",
    "print(y_train.shape)"
   ]
  },
  {
   "cell_type": "code",
   "execution_count": 6,
   "metadata": {},
   "outputs": [
    {
     "name": "stderr",
     "output_type": "stream",
     "text": [
      "/anaconda3/lib/python3.6/site-packages/sklearn/utils/validation.py:590: DataConversionWarning: Data with input dtype int64 was converted to float64 by StandardScaler.\n",
      "  warnings.warn(msg, DataConversionWarning)\n",
      "/anaconda3/lib/python3.6/site-packages/sklearn/utils/validation.py:590: DataConversionWarning: Data with input dtype int64 was converted to float64 by StandardScaler.\n",
      "  warnings.warn(msg, DataConversionWarning)\n",
      "/anaconda3/lib/python3.6/site-packages/sklearn/utils/validation.py:590: DataConversionWarning: Data with input dtype int64 was converted to float64 by StandardScaler.\n",
      "  warnings.warn(msg, DataConversionWarning)\n"
     ]
    }
   ],
   "source": [
    "# Feature scaling part: Data preprocessing\n",
    "from sklearn.preprocessing import StandardScaler # StandardScaler class\n",
    "sc_X = StandardScaler() # creating sc_x, a StandardScaler object\n",
    "X_train = sc_X.fit_transform(X_train)\n",
    "X_test = sc_X.transform(X_test) "
   ]
  },
  {
   "cell_type": "markdown",
   "metadata": {},
   "source": [
    "• Generally FEATURE SCALING is necessary (In case of regression we do not need to do it in the case of Random Forest because their splitting does NOT depend on euclidian distance)\n",
    "\n",
    "• Look at the `AGE` range and `ESTIMATED SALARY` range. Huge difference.\n",
    "\n",
    "• ML model depends on euclidian distance. Suppose there are 2 points, then\n",
    "euclidian distance is calculated by `((y2-y1)^2+(x2-x1)^2)^1/2`. Now if one variable (here salary)\n",
    "has a way higher range/scale and then it is squared and added with other variable square (age here whose \n",
    "value is negligible even after squaring) then ML will only consider salary squared value as it is so \n",
    "high and thus effect of age won't be considered. Feature scaling normalize data in a way to allow considering all variables.\n",
    "\n",
    "• Now feature scaling can be done such that each variable is standardize and belongs to ranges from -1 to +1. And thus their high range wont affect ML model to be biased\n",
    "\n",
    "**1. STANDARDIZATION:** `x_standardization`= `x - mean(x)` / `standard deviation(x)`<br/>\n",
    "**2. NORMALIZATION:** `x_normalization` = `x - min(x)` / `max(x) - min(x)`\n",
    "\n",
    "**CODE:**\n",
    "\n",
    "'''<br/>\n",
    "`from sklearn.preprocessing import StandardScaler`\n",
    "\n",
    "`sc_X = StandardScaler()`\n",
    "\n",
    "`X_train = sc_X.fit_transform(X_train)`\n",
    "\n",
    "`X_test = sc_X.transform(X_test)`<br/>\n",
    "'''\n",
    "\n",
    "If we have to standardscaler y, add the following code to the above code--\n",
    "\n",
    "'''<br/>\n",
    "`sc_y = StandardScaler()`\n",
    "\n",
    "`y_train = sc.y.fit_transform(y_train)`<br/>\n",
    "'''\n",
    "\n",
    "• For test set, we do NOT need to fit the sc_X instance because it's already fitted to training set\n",
    "That means X_test is transformed by StandardScaler object based on its fitting to the X_train. So \n",
    "both X_train and X_test are fitted on the same scale.\n",
    "\n",
    "• Here dependent variable or y is categorical as it has 1 or 0 values, we do NOT need to use feature scaling for classification.\n",
    "\n",
    "• But for regression where dependent variable or y can take a huge range/scale (unlike classification), we need to use feature scaling for y as well."
   ]
  },
  {
   "cell_type": "code",
   "execution_count": 7,
   "metadata": {},
   "outputs": [
    {
     "name": "stdout",
     "output_type": "stream",
     "text": [
      "[[ 0.58164944 -0.88670699]\n",
      " [-0.60673761  1.46173768]\n",
      " [-0.01254409 -0.5677824 ]\n",
      " [-0.60673761  1.89663484]\n",
      " [ 1.37390747 -1.40858358]]\n",
      "------------------------------------\n",
      "[[-0.80480212  0.50496393]\n",
      " [-0.01254409 -0.5677824 ]\n",
      " [-0.30964085  0.1570462 ]\n",
      " [-0.80480212  0.27301877]\n",
      " [-0.30964085 -0.5677824 ]]\n"
     ]
    }
   ],
   "source": [
    "print(X_train[:5]) # confirm X_train is standardized \n",
    "print('------------------------------------')\n",
    "print(X_test[:5]) # confirm X_test is standardized "
   ]
  },
  {
   "cell_type": "code",
   "execution_count": 8,
   "metadata": {},
   "outputs": [
    {
     "data": {
      "text/plain": [
       "KNeighborsClassifier(algorithm='auto', leaf_size=30, metric='minkowski',\n",
       "           metric_params=None, n_jobs=None, n_neighbors=5, p=2,\n",
       "           weights='uniform')"
      ]
     },
     "execution_count": 8,
     "metadata": {},
     "output_type": "execute_result"
    }
   ],
   "source": [
    "# Fitting classifier to the training set\n",
    "from sklearn.neighbors import KNeighborsClassifier\n",
    "# classifier is a KNeighborsClassifier object\n",
    "classifier = KNeighborsClassifier(n_neighbors=5, metric= 'minkowski', p=2)\n",
    "\n",
    "classifier.fit(X_train, y_train)"
   ]
  },
  {
   "cell_type": "markdown",
   "metadata": {},
   "source": [
    "We need to chose Euclidian distance. For that we need to select 'metric' atfirst which will be **'minkowski'** by deafult. Then we have to chose **P**. If P is 1 it is **Manhattan distance** and if P is 2, it will be **Euclidian distance**"
   ]
  },
  {
   "cell_type": "code",
   "execution_count": 9,
   "metadata": {},
   "outputs": [
    {
     "data": {
      "text/plain": [
       "array([0, 0, 0, 0, 0, 0, 0, 1, 0, 1, 0, 0, 0, 0, 0, 1, 0, 0, 1, 0, 0, 1,\n",
       "       0, 1, 0, 1, 0, 0, 0, 0, 0, 0, 1, 0, 0, 0, 0, 0, 0, 1, 0, 0, 0, 0,\n",
       "       1, 0, 0, 1, 0, 1, 1, 0, 0, 1, 1, 1, 0, 0, 1, 0, 0, 1, 0, 1, 0, 1,\n",
       "       0, 0, 0, 0, 1, 0, 0, 1, 0, 0, 0, 0, 1, 1, 1, 1, 0, 0, 1, 0, 0, 1,\n",
       "       1, 0, 0, 1, 0, 0, 0, 0, 0, 1, 1, 1])"
      ]
     },
     "execution_count": 9,
     "metadata": {},
     "output_type": "execute_result"
    }
   ],
   "source": [
    "# Predicting the test set results\n",
    "y_pred = classifier.predict(X_test)\n",
    "y_pred"
   ]
  },
  {
   "cell_type": "code",
   "execution_count": 10,
   "metadata": {},
   "outputs": [
    {
     "data": {
      "text/plain": [
       "array([[64,  4],\n",
       "       [ 3, 29]])"
      ]
     },
     "execution_count": 10,
     "metadata": {},
     "output_type": "execute_result"
    }
   ],
   "source": [
    "# Making the Confusion Matrix\n",
    "from sklearn.metrics import confusion_matrix\n",
    "# class like KNeighborsClassifier, starts with capital word\n",
    "# function like confusion_matrix do NOT start with capital\n",
    "cm = confusion_matrix(y_test, y_pred)\n",
    "cm"
   ]
  },
  {
   "cell_type": "markdown",
   "metadata": {},
   "source": [
    "**∆** In **Logistic Regression** we had **11** incorrect predictions. Here in K-NN we had only **7** incorrect predicitions. So model predicition improved"
   ]
  },
  {
   "cell_type": "code",
   "execution_count": 11,
   "metadata": {},
   "outputs": [
    {
     "data": {
      "image/png": "[encoded data removed]",
      "text/plain": [
       "<Figure size 1152x720 with 1 Axes>"
      ]
     },
     "metadata": {},
     "output_type": "display_data"
    }
   ],
   "source": [
    "# Visualizing the Training set results\n",
    "from matplotlib.colors import ListedColormap\n",
    "X_set, y_set = X_train, y_train\n",
    "X1, X2 = np.meshgrid(np.arange(start = X_set[:,0].min()-1, stop = X_set[:,0].max()+1, step=0.01), \n",
    "                     np.arange(start = X_set[:,1].min()-1, stop = X_set[:,1].max()+1, step=.01))\n",
    "plt.figure(figsize=(16,10))\n",
    "\n",
    "\n",
    "plt.contourf(X1, X2, classifier.predict(np.array([X1.ravel(), X2.ravel()]).T).reshape(X1.shape),\n",
    "             alpha = 0.65, cmap = ListedColormap(('blue', 'green')))\n",
    "plt.xlim(X1.min(), X1.max())\n",
    "plt.ylim(X2.min(), X2.max())\n",
    "for i,j in enumerate(np.unique(y_set)):\n",
    "    plt.scatter(X_set[y_set == j,0], X_set[y_set == j,1],\n",
    "               c = ListedColormap(('red', 'yellow'))(i), label=j)\n",
    "    \n",
    "plt.title('KNeighborsClassifier(Training set)')\n",
    "plt.xlabel('Age')\n",
    "plt.ylabel('Estimated Salary')\n",
    "plt.legend()\n",
    "plt.show()\n",
    "# Code explainied in Logistic Regression"
   ]
  },
  {
   "cell_type": "markdown",
   "metadata": {},
   "source": [
    "**RESULT :** We see K-NN classifier is a **NON-LINEAR classifier** as the **Prediciton boundary** is not a straight line. It DOES NOT have the bottleneck of being a linear classifier and thus does a better job of predicting the category of the training set.\n",
    "\n",
    "All the red observation (social media users who do not buy the SUV) are in the blue region. Where blue region is the region that our model predicts users falling in the blue region do NOT buy the SUV. \n",
    "Whereas the green points (social media users who buys the SUV) are in the green region (region predicted by the model where users will buy the SUV).\n",
    "\n",
    "But we still see some INCORRECT PREDICTIONS. This is because the number of neighbors in K-NN model is selected in a way that we do NOT overfit the model. Overfitting will give a good output on training data, but the model will not be generalized properly and would NOT do great with test or unknown data"
   ]
  },
  {
   "cell_type": "code",
   "execution_count": 12,
   "metadata": {},
   "outputs": [],
   "source": [
    "# Visualizing the Test set results"
   ]
  },
  {
   "cell_type": "code",
   "execution_count": 13,
   "metadata": {},
   "outputs": [
    {
     "data": {
      "image/png": "[encoded data removed]",
      "text/plain": [
       "<Figure size 1152x720 with 1 Axes>"
      ]
     },
     "metadata": {},
     "output_type": "display_data"
    }
   ],
   "source": [
    "from matplotlib.colors import ListedColormap\n",
    "X_set, y_set = X_test, y_test\n",
    "\n",
    "X1, X2 = np.meshgrid(np.arange(start = X_set[:,0].min()-1, stop = X_set[:,0].max()+1, step=0.01), \n",
    "                     np.arange(start = X_set[:,1].min()-1, stop = X_set[:,1].max()+1, step=.01))\n",
    "plt.figure(figsize=(16,10))\n",
    "plt.contourf(X1, X2, classifier.predict(np.array([X1.ravel(), X2.ravel()]).T).reshape(X1.shape),\n",
    "             alpha = 0.75, cmap = ListedColormap(('blue', 'green')))\n",
    "\n",
    "plt.xlim(X1.min(), X1.max())\n",
    "plt.ylim(X2.min(), X2.max())\n",
    "\n",
    "for i,j in enumerate(np.unique(y_set)):\n",
    "    plt.scatter(X_set[y_set == j,0], X_set[y_set == j,1],\n",
    "               c = ListedColormap(('red', 'yellow'))(i), label=j)\n",
    "\n",
    "plt.title('KNeighborsClassifier(Test set)')\n",
    "plt.xlabel('Age')\n",
    "plt.ylabel('Estimated Salary')\n",
    "plt.legend()\n",
    "plt.show()"
   ]
  },
  {
   "cell_type": "markdown",
   "metadata": {},
   "source": [
    "**RESULT :** Here non-linear classifier i.e. K-NN classifier does a great job predicting and we only have 7 incorrect predictions"
   ]
  }
 ],
 "metadata": {
  "kernelspec": {
   "display_name": "Python 3",
   "language": "python",
   "name": "python3"
  },
  "language_info": {
   "codemirror_mode": {
    "name": "ipython",
    "version": 3
   },
   "file_extension": ".py",
   "mimetype": "text/x-python",
   "name": "python",
   "nbconvert_exporter": "python",
   "pygments_lexer": "ipython3",
   "version": "3.6.5"
  },
  "varInspector": {
   "cols": {
    "lenName": 16,
    "lenType": 16,
    "lenVar": 40
   },
   "kernels_config": {
    "python": {
     "delete_cmd_postfix": "",
     "delete_cmd_prefix": "del ",
     "library": "var_list.py",
     "varRefreshCmd": "print(var_dic_list())"
    },
    "r": {
     "delete_cmd_postfix": ") ",
     "delete_cmd_prefix": "rm(",
     "library": "var_list.r",
     "varRefreshCmd": "cat(var_dic_list()) "
    }
   },
   "types_to_exclude": [
    "module",
    "function",
    "builtin_function_or_method",
    "instance",
    "_Feature"
   ],
   "window_display": false
  }
 },
 "nbformat": 4,
 "nbformat_minor": 2
}
