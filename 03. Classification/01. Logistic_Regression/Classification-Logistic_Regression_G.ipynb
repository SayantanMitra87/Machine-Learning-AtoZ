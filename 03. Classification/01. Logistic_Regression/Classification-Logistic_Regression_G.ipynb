{
 "cells": [
  {
   "cell_type": "markdown",
   "metadata": {},
   "source": [
    "# Machine Learning A-Z Python"
   ]
  },
  {
   "cell_type": "markdown",
   "metadata": {},
   "source": [
    "## Classification"
   ]
  },
  {
   "cell_type": "markdown",
   "metadata": {},
   "source": [
    "## Logistic Regression (Linear Classifier)"
   ]
  },
  {
   "cell_type": "markdown",
   "metadata": {},
   "source": [
    "Logistic regression is used in classification. \n",
    "\n",
    "We generally use regression (simple, multiple, polynomial etc) to predict a continuous number. Classification is used to predict a category\n",
    "\n",
    "**Linear classifier:** Logistic Regression, linear SVM\n",
    "\n",
    "**Non-Linear classifier:** K-NN, Kernel SVM, Random Forest"
   ]
  },
  {
   "cell_type": "markdown",
   "metadata": {},
   "source": [
    "**Business Problem:** Client has started a brand new luxary SUV. Job is to figure out who in the social network (based on available data) is willing to buy this brand new SUV."
   ]
  },
  {
   "cell_type": "code",
   "execution_count": 1,
   "metadata": {},
   "outputs": [
    {
     "name": "stdout",
     "output_type": "stream",
     "text": [
      "    User ID  Gender  Age  EstimatedSalary  Purchased\n",
      "0  15624510    Male   19            19000          0\n",
      "1  15810944    Male   35            20000          0\n",
      "2  15668575  Female   26            43000          0\n",
      "3  15603246  Female   27            57000          0\n",
      "4  15804002    Male   19            76000          0\n"
     ]
    }
   ],
   "source": [
    "# Data Preprocessing\n",
    "\n",
    "# Importing Libraries\n",
    "import numpy as np\n",
    "import matplotlib.pyplot as plt\n",
    "import pandas as pd\n",
    "\n",
    "# Importing the dataset\n",
    "dataset= pd.read_csv('Social_Network_Ads.csv')\n",
    "print(dataset.head())"
   ]
  },
  {
   "cell_type": "markdown",
   "metadata": {},
   "source": [
    "Gender is not considered here. But to make the model more accurate we can consider that.\n",
    "However we can NOT visualize 3 variables at the same time (not necessary to visualize in real world dataset). "
   ]
  },
  {
   "cell_type": "code",
   "execution_count": 2,
   "metadata": {},
   "outputs": [
    {
     "data": {
      "text/plain": [
       "((400, 2), 2)"
      ]
     },
     "execution_count": 2,
     "metadata": {},
     "output_type": "execute_result"
    }
   ],
   "source": [
    "# Independent variable: Age, Estimated Salary,\n",
    "# Dependent variable: Purchased\n",
    "X=dataset.iloc[:,2:4].values # independent variables\n",
    "X.shape, X.ndim  # needs to be 2D matrix"
   ]
  },
  {
   "cell_type": "code",
   "execution_count": 3,
   "metadata": {},
   "outputs": [
    {
     "data": {
      "text/plain": [
       "((400,), 1)"
      ]
     },
     "execution_count": 3,
     "metadata": {},
     "output_type": "execute_result"
    }
   ],
   "source": [
    "y=dataset.iloc[:,-1].values # dependent variable\n",
    "y.shape, y.ndim # needs to be 1D vector"
   ]
  },
  {
   "cell_type": "code",
   "execution_count": 4,
   "metadata": {},
   "outputs": [
    {
     "name": "stdout",
     "output_type": "stream",
     "text": [
      "[[   19 19000]\n",
      " [   35 20000]\n",
      " [   26 43000]\n",
      " [   27 57000]\n",
      " [   19 76000]]\n",
      "------------------------------------\n",
      "[0 0 0 0 0]\n"
     ]
    }
   ],
   "source": [
    "print(X[:5]) # confirm it do NOT have dependent variable \n",
    "print('------------------------------------')\n",
    "print(y[:5]) # confirm it only contain  dependent variable"
   ]
  },
  {
   "cell_type": "code",
   "execution_count": 5,
   "metadata": {},
   "outputs": [
    {
     "name": "stdout",
     "output_type": "stream",
     "text": [
      "(300, 2) (300,)\n"
     ]
    }
   ],
   "source": [
    "# Splitting the dataset into the Training and Test set\n",
    "from sklearn.model_selection import train_test_split\n",
    "X_train, X_test, y_train, y_test=train_test_split(X, y, \n",
    "                                                  test_size=0.25, \n",
    "                                                  random_state=0)\n",
    "print(X_train.shape, y_train.shape)"
   ]
  },
  {
   "cell_type": "code",
   "execution_count": 6,
   "metadata": {},
   "outputs": [
    {
     "name": "stderr",
     "output_type": "stream",
     "text": [
      "/anaconda3/lib/python3.6/site-packages/sklearn/utils/validation.py:590: DataConversionWarning: Data with input dtype int64 was converted to float64 by StandardScaler.\n",
      "  warnings.warn(msg, DataConversionWarning)\n",
      "/anaconda3/lib/python3.6/site-packages/sklearn/utils/validation.py:590: DataConversionWarning: Data with input dtype int64 was converted to float64 by StandardScaler.\n",
      "  warnings.warn(msg, DataConversionWarning)\n",
      "/anaconda3/lib/python3.6/site-packages/sklearn/utils/validation.py:590: DataConversionWarning: Data with input dtype int64 was converted to float64 by StandardScaler.\n",
      "  warnings.warn(msg, DataConversionWarning)\n"
     ]
    }
   ],
   "source": [
    "# Feature scaling: Data preprocessing\n",
    "from sklearn.preprocessing import StandardScaler # StandardScaler class\n",
    "sc_X = StandardScaler() # creating sc_x, a StandardScaler object\n",
    "X_train = sc_X.fit_transform(X_train)\n",
    "X_test = sc_X.transform(X_test) "
   ]
  },
  {
   "cell_type": "markdown",
   "metadata": {},
   "source": [
    "• Generally FEATURE SCALING is necessary (In case of regression we do not need to do it in the case of Random Forest because their splitting does NOT depend on euclidian distance)\n",
    "\n",
    "• Look at the `AGE` range and `ESTIMATED SALARY` range. Huge difference.\n",
    "\n",
    "• ML model depends on euclidian distance. Suppose there are 2 points, then\n",
    "euclidian distance is calculated by `((y2-y1)^2+(x2-x1)^2)^1/2`. Now if one variable (here salary)\n",
    "has a way higher range/scale and then it is squared and added with other variable square (age here whose \n",
    "value is negligible even after squaring) then ML will only consider salary squared value as it is so \n",
    "high and thus effect of age won't be considered. Feature scaling normalize data in a way to allow considering all variables.\n",
    "\n",
    "• Now feature scaling can be done such that each variable is standardize and belongs to ranges from -1 to +1. And thus their high range wont affect ML model to be biased\n",
    "\n",
    "**1. STANDARDIZATION:** `x_standardization`= `x - mean(x)` / `standard deviation(x)`<br/>\n",
    "**2. NORMALIZATION:** `x_normalization` = `x - min(x)` / `max(x) - min(x)`\n",
    "\n",
    "**CODE:**\n",
    "\n",
    "'''<br/>\n",
    "`from sklearn.preprocessing import StandardScaler`\n",
    "\n",
    "`sc_X = StandardScaler()`\n",
    "\n",
    "`X_train = sc_X.fit_transform(X_train)`\n",
    "\n",
    "`X_test = sc_X.transform(X_test)`<br/>\n",
    "'''\n",
    "\n",
    "If we have to standardscaler y, add the following code to the above code--\n",
    "\n",
    "'''<br/>\n",
    "`sc_y = StandardScaler()`\n",
    "\n",
    "`y_train = sc.y.fit_transform(y_train)`<br/>\n",
    "'''\n",
    "\n",
    "• For test set, we do NOT need to fit the sc_X instance because it's already fitted to training set\n",
    "That means X_test is transformed by StandardScaler object based on its fitting to the X_train. So \n",
    "both X_train and X_test are fitted on the same scale.\n",
    "\n",
    "• Here dependent variable or y is categorical as it has 1 or 0 values, we do NOT need to use feature scaling for classification.\n",
    "\n",
    "• But for regression where dependent variable or y can take a huge range/scale (unlike classification), we need to use feature scaling for y as well."
   ]
  },
  {
   "cell_type": "code",
   "execution_count": 7,
   "metadata": {},
   "outputs": [
    {
     "name": "stdout",
     "output_type": "stream",
     "text": [
      "[[ 0.58164944 -0.88670699]\n",
      " [-0.60673761  1.46173768]\n",
      " [-0.01254409 -0.5677824 ]\n",
      " [-0.60673761  1.89663484]\n",
      " [ 1.37390747 -1.40858358]]\n",
      "------------------------------------\n",
      "[[-0.80480212  0.50496393]\n",
      " [-0.01254409 -0.5677824 ]\n",
      " [-0.30964085  0.1570462 ]\n",
      " [-0.80480212  0.27301877]\n",
      " [-0.30964085 -0.5677824 ]]\n"
     ]
    }
   ],
   "source": [
    "print(X_train[:5]) # confirm X_train is standardized \n",
    "print('------------------------------------')\n",
    "print(X_test[:5]) # confirm X_test is standardized "
   ]
  },
  {
   "cell_type": "code",
   "execution_count": 8,
   "metadata": {},
   "outputs": [
    {
     "name": "stderr",
     "output_type": "stream",
     "text": [
      "/anaconda3/lib/python3.6/site-packages/sklearn/linear_model/logistic.py:432: FutureWarning: Default solver will be changed to 'lbfgs' in 0.22. Specify a solver to silence this warning.\n",
      "  FutureWarning)\n"
     ]
    },
    {
     "data": {
      "text/plain": [
       "LogisticRegression(C=1.0, class_weight=None, dual=False, fit_intercept=True,\n",
       "          intercept_scaling=1, max_iter=100, multi_class='warn',\n",
       "          n_jobs=None, penalty='l2', random_state=0, solver='warn',\n",
       "          tol=0.0001, verbose=0, warm_start=False)"
      ]
     },
     "execution_count": 8,
     "metadata": {},
     "output_type": "execute_result"
    }
   ],
   "source": [
    "# Fitting Logistic Regression to the Training Set\n",
    "from sklearn.linear_model import LogisticRegression\n",
    "classifier = LogisticRegression(random_state=0) # classifier is a logistic regression object\n",
    "classifier.fit(X_train, y_train)"
   ]
  },
  {
   "cell_type": "markdown",
   "metadata": {},
   "source": [
    "Also, important to notice we are importing from **linear model library** because logistic regression is a **linear classifier.** "
   ]
  },
  {
   "cell_type": "code",
   "execution_count": 9,
   "metadata": {},
   "outputs": [
    {
     "data": {
      "text/plain": [
       "array([0, 0, 0, 0, 0, 0, 0, 1, 0, 1, 0, 0, 0, 0, 0, 0, 0, 0, 1, 0, 0, 1,\n",
       "       0, 1, 0, 1, 0, 0, 0, 0, 0, 0, 1, 0, 0, 0, 0, 0, 0, 1, 0, 0, 0, 0,\n",
       "       1, 0, 0, 1, 0, 1, 1, 0, 0, 0, 1, 0, 0, 0, 0, 0, 0, 1, 0, 0, 0, 1,\n",
       "       0, 0, 0, 0, 1, 0, 0, 0, 0, 0, 1, 0, 1, 1, 1, 1, 0, 0, 1, 1, 0, 1,\n",
       "       0, 0, 0, 1, 0, 0, 0, 0, 0, 0, 1, 1])"
      ]
     },
     "execution_count": 9,
     "metadata": {},
     "output_type": "execute_result"
    }
   ],
   "source": [
    "# Predictig the Test set results:\n",
    "y_pred = classifier.predict(X_test)\n",
    "y_pred"
   ]
  },
  {
   "cell_type": "code",
   "execution_count": 10,
   "metadata": {},
   "outputs": [],
   "source": [
    "# Making the Confusion Matrix\n",
    "from sklearn.metrics import confusion_matrix"
   ]
  },
  {
   "cell_type": "markdown",
   "metadata": {},
   "source": [
    "• class like `LogisticRegression`, starts with capital word <br/>\n",
    "• function like `confusion_matrix` do NOT start with capital words"
   ]
  },
  {
   "cell_type": "code",
   "execution_count": 11,
   "metadata": {},
   "outputs": [
    {
     "data": {
      "text/plain": [
       "array([[65,  3],\n",
       "       [ 8, 24]])"
      ]
     },
     "execution_count": 11,
     "metadata": {},
     "output_type": "execute_result"
    }
   ],
   "source": [
    "# y_test: original target | y_pred: predicted target\n",
    "cm = confusion_matrix(y_test, y_pred)\n",
    "cm"
   ]
  },
  {
   "cell_type": "markdown",
   "metadata": {},
   "source": [
    " **65+24 predicted correctly and 8+3=11 predicted incorrectly.**"
   ]
  },
  {
   "cell_type": "code",
   "execution_count": 12,
   "metadata": {},
   "outputs": [
    {
     "data": {
      "image/png": "[encoded data removed]",
      "text/plain": [
       "<Figure size 1152x720 with 1 Axes>"
      ]
     },
     "metadata": {},
     "output_type": "display_data"
    }
   ],
   "source": [
    "# Visualizing the Training set results\n",
    "from matplotlib.colors import ListedColormap\n",
    "X_set, y_set = X_train, y_train\n",
    "X1, X2 = np.meshgrid(np.arange(start = X_set[:,0].min()-1, stop = X_set[:,0].max()+1, step=0.01), \n",
    "                     np.arange(start = X_set[:,1].min()-1, stop = X_set[:,1].max()+1, step=.01))\n",
    "plt.figure(figsize=(16,10))\n",
    "plt.contourf(X1, X2, classifier.predict(np.array([X1.ravel(), X2.ravel()]).T).reshape(X1.shape),\n",
    "             alpha = 0.65, cmap = ListedColormap(('blue', 'green')))\n",
    "plt.xlim(X1.min(), X1.max())\n",
    "plt.ylim(X2.min(), X2.max())\n",
    "for i,j in enumerate(np.unique(y_set)):\n",
    "    plt.scatter(X_set[y_set == j,0], X_set[y_set == j,1],\n",
    "               c = ListedColormap(('red', 'yellow'))(i), label=j)\n",
    "    \n",
    "plt.title('Logistic Regression(Training set)')\n",
    "plt.xlabel('Age')\n",
    "plt.ylabel('Estimated Salary')\n",
    "plt.legend()\n",
    "plt.show()"
   ]
  },
  {
   "cell_type": "markdown",
   "metadata": {},
   "source": [
    "The red and yellow points in the plot are the observation points of the training set. Here logisitic regression classifier is been trained to classify based on this training set. \n",
    "\n",
    "Red points are the training set observations who DID NOT purchase (dependent variable) the SUV and was coded 0. Yellow points are the one for purchased the SUV (dependent variable) & was coded 1. \n",
    "\n",
    "**RED POINTS(0):** Mostly belong to the young users and low salary and they did NOT buy the SUV.<br/>\n",
    "**GREEN POINTS(1):** Mostly belong to the older users and higher salary and they bought the SUV.\n",
    "\n",
    "**ANOMALY:** <br/>\n",
    "But we also see some yellow points in the blue zone, that means the older users (observation points in training data that are above age 0 on X axis) with low salary (observation points in training data that are below salary 0 on y axis) also bought SUV.\n",
    "\n",
    "Similarly, we see some yellow points in the blue zone, that means younger users (observation points in training data that are below age 0 on X axis) with high salary (observation points in training data that are above salary 0 on y axis) also bought SUV.\n",
    "\n",
    "**Goal of classification:** Goal is to make a classifier that will classify right class in the right category.\n",
    "Classifier classified the observation, and it is represented by 2 **prediction regions.**<br/>\n",
    "**BLUE PREDICTION REGION:** Is the predicted region where classifier catches all the users that do NOT buy the SUV.\n",
    "\n",
    "**GREEN PREDICTION REGION:**Is the predicted region where classifier catches all the users that BUY the SUV.\n",
    "\n",
    "**WARNING:** Logistic regression classifier says observations in the blue predicted region will NOT buy the SUV.\n",
    "Logistic regression classifier says observations in the green predicted region will BUY the SUV.\n",
    "But, thats not the case 100% in real life. That is classifier prediction but ABSOLUTE TRUTH are the observation points.\n",
    "\n",
    "But if classifier does a decent job predicting, it can tell whether a new user will BUY a SUV or not buy a SUV based on their age and salary. If the new user belongs to the blue predicted region based on age and salary they will NOT buy the SUV. If the new user belongs to the green predicted region based on age and salary they will BUY the SUV. Thus the company can target the social media users that falls on the predicted green region, because they are the users that are predicted to buy the SUV according to the classifier.\n",
    "\n",
    "**PREDICITON BOUNDARY based on Logistic Regression Classifier:**\n",
    "The blue and green prediction region are separated by a straight line called prediction boundary. Prediction boundary is a straight line because Logistic regression classifier is a linear classifier. For NON-linear classifier the prediction boundary will NOT be a straight line. \n",
    "\n",
    "As we are looking into 2D because there are age and salary we get a straight line for prediction classifier. If we are looking into 3D then the prediction boundary would be a plane separating 2 spaces.\n",
    "\n",
    "ANOMALY: We see the classifier did a good job classifying people whether they will buy the SUV or not based on the features (age and salary). However, there are some problems. We see some yellow observation (bought the SUV) are from low income level and are predicted to be in the blue predicted region according to the classifier. These INCORRECT prediction are due to the fact that it is a LINEAR classifier and our social media users are NOT linearly distributed. If they are linearly distributed then all green observation will be in green predicted region and red observations will be in the blue predicted region. \n",
    "\n",
    "Instead of a straight line classifier if we have a curved classifier it would do a better job of predicting as they can fit in the rebellious obeservations in the correct prediction region."
   ]
  },
  {
   "cell_type": "code",
   "execution_count": 13,
   "metadata": {},
   "outputs": [],
   "source": [
    "# Vizualization code explanation"
   ]
  },
  {
   "cell_type": "markdown",
   "metadata": {},
   "source": [
    "We took all the pixels in the frame. Each pixel is a hypothetical observation with an age and salary. And then we apply classifier on it. Now for all these hypothetical points (pixels) we apply logistic regression classifier to predict whether these points will have a value 0 OR 1. If it predicts 0 it will color it blue, if it predicts 1, it will color it green. By doing this to all pixel points, all pixel points that have a 0 prediction will be colored blue and all with 1 prediction will be colored green. And they are separated by a straight line with is the PREDICTION BOUNDARY."
   ]
  },
  {
   "cell_type": "code",
   "execution_count": 14,
   "metadata": {},
   "outputs": [],
   "source": [
    "from matplotlib.colors import ListedColormap\n",
    "X_set, y_set = X_train, y_train"
   ]
  },
  {
   "cell_type": "markdown",
   "metadata": {},
   "source": [
    "We need this code to plot the test data too, so we create the alias X_set, y_set, so that we can copy the code, and we do NOT have to replace every X_train, y_train with X_test and y_test."
   ]
  },
  {
   "cell_type": "code",
   "execution_count": 15,
   "metadata": {},
   "outputs": [],
   "source": [
    "X1, X2 = np.meshgrid(np.arange(start = X_set[:,0].min()-1, stop = X_set[:,0].max()+1, step=0.01), \n",
    "                     np.arange(start = X_set[:,1].min()-1, stop = X_set[:,1].max()+1, step=.01))"
   ]
  },
  {
   "cell_type": "markdown",
   "metadata": {},
   "source": [
    "Here we prepare all the grids with the pixel points. \n",
    "\n",
    "1. `start = X_set[:,0].min()-1, stop = X_set[:,0].max()+1`:  Subtracting 1 to minimum and adding 1 to maximum so that observation points are NOT squeezed on the side of the plot, along the X axis.\n",
    "\n",
    "2. `start = X_set[:,1].min()-1, stop = X_set[:,1].max()+1`: Subtracting 1 to minimum and adding 1 to maximum so that observation points are NOT squeezed on the top and bottom of the plot, along the y axis.\n",
    "\n",
    "3. 0.01 is the resolution"
   ]
  },
  {
   "cell_type": "code",
   "execution_count": 16,
   "metadata": {},
   "outputs": [
    {
     "data": {
      "text/plain": [
       "array([[-2.99318916, -2.98318916, -2.97318916, ...,  3.13681084,\n",
       "         3.14681084,  3.15681084],\n",
       "       [-2.99318916, -2.98318916, -2.97318916, ...,  3.13681084,\n",
       "         3.14681084,  3.15681084]])"
      ]
     },
     "execution_count": 16,
     "metadata": {},
     "output_type": "execute_result"
    }
   ],
   "source": [
    "X1[:2]"
   ]
  },
  {
   "cell_type": "code",
   "execution_count": 17,
   "metadata": {},
   "outputs": [
    {
     "data": {
      "text/plain": [
       "array([-2.99318916, -2.98318916, -2.97318916, ...,  3.13681084,\n",
       "        3.14681084,  3.15681084])"
      ]
     },
     "execution_count": 17,
     "metadata": {},
     "output_type": "execute_result"
    }
   ],
   "source": [
    "X1[:2].ravel() # numpy.ravel flattens multidimensional arrays into 1D arrays"
   ]
  },
  {
   "cell_type": "code",
   "execution_count": 18,
   "metadata": {},
   "outputs": [
    {
     "data": {
      "image/png": "[encoded data removed]",
      "text/plain": [
       "<Figure size 432x288 with 1 Axes>"
      ]
     },
     "metadata": {},
     "output_type": "display_data"
    }
   ],
   "source": [
    "plt.contourf(X1, X2, classifier.predict(np.array([X1.ravel(), X2.ravel()]).T).reshape(X1.shape),\n",
    "             alpha = 0.75, cmap = ListedColormap(('blue', 'green')))\n",
    "plt.show()"
   ]
  },
  {
   "cell_type": "markdown",
   "metadata": {},
   "source": [
    "Here we apply classifier to all the hypothetical pixel observation points. Then logisitc regression predicts if each of the pixel point belongs to class 0 or 1, if pixel point belongs belongs to class 0 it will be blue otherwise green."
   ]
  },
  {
   "cell_type": "code",
   "execution_count": 19,
   "metadata": {},
   "outputs": [
    {
     "data": {
      "text/plain": [
       "(-2.5825424477554764, 3.3274575522443977)"
      ]
     },
     "execution_count": 19,
     "metadata": {},
     "output_type": "execute_result"
    },
    {
     "data": {
      "image/png": "[encoded data removed]",
      "text/plain": [
       "<Figure size 432x288 with 1 Axes>"
      ]
     },
     "metadata": {},
     "output_type": "display_data"
    }
   ],
   "source": [
    "# X and y axis limits of the plot\n",
    "plt.xlim(X1.min(), X1.max())\n",
    "plt.ylim(X2.min(), X2.max())"
   ]
  },
  {
   "cell_type": "code",
   "execution_count": 20,
   "metadata": {},
   "outputs": [
    {
     "data": {
      "image/png": "[encoded data removed]",
      "text/plain": [
       "<Figure size 432x288 with 1 Axes>"
      ]
     },
     "metadata": {},
     "output_type": "display_data"
    }
   ],
   "source": [
    "# for loop is used to plot all REAL observations\n",
    "for i,j in enumerate(np.unique(y_set)):\n",
    "    plt.scatter(X_set[y_set == j,0], X_set[y_set == j,1],\n",
    "               c = ListedColormap(('red', 'yellow'))(i), label=j)\n",
    "\n",
    "plt.show()"
   ]
  },
  {
   "cell_type": "code",
   "execution_count": 21,
   "metadata": {},
   "outputs": [
    {
     "name": "stderr",
     "output_type": "stream",
     "text": [
      "No handles with labels found to put in legend.\n"
     ]
    },
    {
     "data": {
      "text/plain": [
       "<matplotlib.legend.Legend at 0x12170c710>"
      ]
     },
     "execution_count": 21,
     "metadata": {},
     "output_type": "execute_result"
    },
    {
     "data": {
      "image/png": "[encoded data removed]",
      "text/plain": [
       "<Figure size 432x288 with 1 Axes>"
      ]
     },
     "metadata": {},
     "output_type": "display_data"
    }
   ],
   "source": [
    "# Basics labelling\n",
    "plt.title('Logistic Regression(Training set)')\n",
    "plt.xlabel('Age')\n",
    "plt.ylabel('Estimated Salary')\n",
    "plt.legend()"
   ]
  },
  {
   "cell_type": "code",
   "execution_count": 22,
   "metadata": {},
   "outputs": [
    {
     "data": {
      "image/png": "[encoded data removed]",
      "text/plain": [
       "<Figure size 1152x720 with 1 Axes>"
      ]
     },
     "metadata": {},
     "output_type": "display_data"
    }
   ],
   "source": [
    "# Visualizing the Test set results\n",
    "\n",
    "from matplotlib.colors import ListedColormap\n",
    "X_set, y_set = X_test, y_test\n",
    "# we need this code to plot the test data too, so we create the alias X_set, y_set\n",
    "\n",
    "X1, X2 = np.meshgrid(np.arange(start = X_set[:,0].min()-1, stop = X_set[:,0].max()+1, step=0.01), \n",
    "                     # For age column we are plotting the pixels, 0.01 is the resolution\n",
    "                     np.arange(start = X_set[:,1].min()-1, stop = X_set[:,1].max()+1, step=.01))\n",
    "                     # For salary column we are plotting the pixels\n",
    "plt.figure(figsize=(16,10))\n",
    "plt.contourf(X1, X2, classifier.predict(np.array([X1.ravel(), X2.ravel()]).T).reshape(X1.shape),\n",
    "             alpha = 0.75, cmap = ListedColormap(('blue', 'green')))\n",
    "# Here we apply logisitc regression classifier to all the pixel points, \n",
    "# if pixel point belongs belongs to class 0 it will be red otherwise green\n",
    "\n",
    "plt.xlim(X1.min(), X1.max())\n",
    "plt.ylim(X2.min(), X2.max())\n",
    "\n",
    "for i,j in enumerate(np.unique(y_set)):\n",
    "    plt.scatter(X_set[y_set == j,0], X_set[y_set == j,1],\n",
    "               c = ListedColormap(('red', 'yellow'))(i), label=j)\n",
    "\n",
    "plt.title('Logistic Regression(Training set)')\n",
    "plt.xlabel('Age')\n",
    "plt.ylabel('Estimated Salary')\n",
    "plt.legend()\n",
    "plt.show()"
   ]
  },
  {
   "cell_type": "markdown",
   "metadata": {},
   "source": [
    "**RESULT:** The Logistic regression classifier did a DECENT job classifying test observation based on their features (age and salary). There are a lot of correct prediction i.e. red points in the blue region and yellow points in the green region. \n",
    "\n",
    "But we see some red points on the green region and some yellow points on the blue region. These are the incorrect predictions (total 11 incorrect predictions) that we saw in the confusion matrix."
   ]
  }
 ],
 "metadata": {
  "kernelspec": {
   "display_name": "Python 3",
   "language": "python",
   "name": "python3"
  },
  "language_info": {
   "codemirror_mode": {
    "name": "ipython",
    "version": 3
   },
   "file_extension": ".py",
   "mimetype": "text/x-python",
   "name": "python",
   "nbconvert_exporter": "python",
   "pygments_lexer": "ipython3",
   "version": "3.6.5"
  },
  "varInspector": {
   "cols": {
    "lenName": 16,
    "lenType": 16,
    "lenVar": 40
   },
   "kernels_config": {
    "python": {
     "delete_cmd_postfix": "",
     "delete_cmd_prefix": "del ",
     "library": "var_list.py",
     "varRefreshCmd": "print(var_dic_list())"
    },
    "r": {
     "delete_cmd_postfix": ") ",
     "delete_cmd_prefix": "rm(",
     "library": "var_list.r",
     "varRefreshCmd": "cat(var_dic_list()) "
    }
   },
   "types_to_exclude": [
    "module",
    "function",
    "builtin_function_or_method",
    "instance",
    "_Feature"
   ],
   "window_display": false
  }
 },
 "nbformat": 4,
 "nbformat_minor": 2
}
